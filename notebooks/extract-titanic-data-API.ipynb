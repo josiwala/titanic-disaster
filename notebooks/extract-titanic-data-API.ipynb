{
 "cells": [
  {
   "cell_type": "markdown",
   "metadata": {},
   "source": [
    "# Extracting Titanic Disaster Data From Kaggle"
   ]
  },
  {
   "cell_type": "code",
   "execution_count": 1,
   "metadata": {},
   "outputs": [
    {
     "name": "stdout",
     "output_type": "stream",
     "text": [
      "ref                                            deadline             category             reward  teamCount  userHasEntered  \n",
      "---------------------------------------------  -------------------  ---------------  ----------  ---------  --------------  \n",
      "digit-recognizer                               2030-01-01 00:00:00  Getting Started   Knowledge       2321           False  \n",
      "titanic                                        2030-01-01 00:00:00  Getting Started   Knowledge      16845            True  \n",
      "house-prices-advanced-regression-techniques    2030-01-01 00:00:00  Getting Started   Knowledge       5810           False  \n",
      "imagenet-object-localization-challenge         2029-12-31 07:00:00  Research          Knowledge         60           False  \n",
      "competitive-data-science-predict-future-sales  2020-12-31 23:59:00  Playground            Kudos       5197           False  \n",
      "deepfake-detection-challenge                   2020-03-31 23:59:00  Featured         $1,000,000        585           False  \n",
      "bengaliai-cv19                                 2020-03-16 23:59:00  Research            $10,000        100           False  \n",
      "google-quest-challenge                         2020-02-10 23:59:00  Featured            $25,000        627           False  \n",
      "tensorflow2-question-answering                 2020-01-22 23:59:00  Featured            $50,000        949           False  \n",
      "data-science-bowl-2019                         2020-01-22 23:59:00  Featured           $160,000       2354           False  \n",
      "pku-autonomous-driving                         2020-01-21 23:59:00  Featured            $25,000        632           False  \n",
      "santa-workshop-tour-2019                       2020-01-15 23:59:00  Featured            $25,000       1257           False  \n",
      "nfl-big-data-bowl-2020                         2020-01-06 23:59:00  Featured            $75,000       2038           False  \n",
      "nfl-playing-surface-analytics                  2020-01-02 23:59:00  Analytics           $75,000          0           False  \n",
      "ashrae-energy-prediction                       2019-12-19 23:59:00  Featured            $25,000       1877           False  \n",
      "Kannada-MNIST                                  2019-12-17 23:59:00  Playground        Knowledge       1214           False  \n",
      "bigquery-geotab-intersection-congestion        2019-12-12 23:59:00  Playground            Kudos        436           False  \n",
      "cat-in-the-dat                                 2019-12-09 23:59:00  Playground             Swag       1342           False  \n",
      "kaggle-survey-2019                             2019-12-02 23:59:00  Analytics           $30,000          0           False  \n",
      "understanding_cloud_organization               2019-11-18 23:59:00  Research            $10,000       1538           False  \n"
     ]
    }
   ],
   "source": [
    "# Show existing Kaggle competitions\n",
    "!kaggle competitions list"
   ]
  },
  {
   "cell_type": "code",
   "execution_count": 2,
   "metadata": {},
   "outputs": [
    {
     "name": "stdout",
     "output_type": "stream",
     "text": [
      "name                   size  creationDate         \n",
      "---------------------  ----  -------------------  \n",
      "train.csv              60KB  2018-04-09 05:33:22  \n",
      "test.csv               28KB  2018-04-09 05:33:22  \n",
      "gender_submission.csv   3KB  2018-04-09 05:33:22  \n"
     ]
    }
   ],
   "source": [
    "# Titanic file names\n",
    "!kaggle competitions files --competition titanic"
   ]
  },
  {
   "cell_type": "code",
   "execution_count": 3,
   "metadata": {},
   "outputs": [],
   "source": [
    "# API token can be created from Kaggle account and stored in C://Users/<windows-name>/.kaggle/kaggle.js\n",
    "def extract_data(file_name, file_path):\n",
    "    !kaggle competitions download titanic -f $file_name -p $file_path --force"
   ]
  },
  {
   "cell_type": "code",
   "execution_count": 5,
   "metadata": {},
   "outputs": [
    {
     "name": "stdout",
     "output_type": "stream",
     "text": [
      "Downloading train.csv to ..\\data\\raw\n",
      "\n"
     ]
    },
    {
     "name": "stderr",
     "output_type": "stream",
     "text": [
      "\n",
      "  0%|          | 0.00/59.8k [00:00<?, ?B/s]\n",
      "100%|##########| 59.8k/59.8k [00:00<00:00, 3.80MB/s]\n"
     ]
    },
    {
     "name": "stdout",
     "output_type": "stream",
     "text": [
      "Downloading test.csv to ..\\data\\raw\n",
      "\n"
     ]
    },
    {
     "name": "stderr",
     "output_type": "stream",
     "text": [
      "\n",
      "  0%|          | 0.00/28.0k [00:00<?, ?B/s]\n",
      "100%|##########| 28.0k/28.0k [00:00<00:00, 1.70MB/s]\n"
     ]
    }
   ],
   "source": [
    "import os\n",
    "\n",
    "# file names\n",
    "train_file_name=\"train.csv\"\n",
    "test_file_name=\"test.csv\"\n",
    "\n",
    "# file paths\n",
    "raw_data_path = os.path.join(os.path.pardir, 'data', 'raw')\n",
    "train_data_path = os.path.join(raw_data_path, 'train.csv')\n",
    "test_data_path = os.path.join(raw_data_path, 'test.csv')\n",
    "extract_data(train_file_name, raw_data_path)\n",
    "extract_data(test_file_name, raw_data_path)"
   ]
  }
 ],
 "metadata": {
  "kernelspec": {
   "display_name": "Python 3",
   "language": "python",
   "name": "python3"
  },
  "language_info": {
   "codemirror_mode": {
    "name": "ipython",
    "version": 3
   },
   "file_extension": ".py",
   "mimetype": "text/x-python",
   "name": "python",
   "nbconvert_exporter": "python",
   "pygments_lexer": "ipython3",
   "version": "3.7.4"
  }
 },
 "nbformat": 4,
 "nbformat_minor": 2
}
